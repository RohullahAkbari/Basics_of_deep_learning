{
 "cells": [
  {
   "cell_type": "code",
   "execution_count": 124,
   "metadata": {},
   "outputs": [
    {
     "name": "stdout",
     "output_type": "stream",
     "text": [
      "[0.00277941]\n"
     ]
    }
   ],
   "source": [
    "import tensorflow as tf\n",
    "import numpy as np\n",
    "\n",
    "# initialize the weight , bias , x, and y variables\n",
    "w = tf.Variable([0.2])\n",
    "b = tf.Variable([-0.2])\n",
    "x = tf.constant(1.0)\n",
    "y_true = tf.constant(3.0)\n",
    "\n",
    "# Define your model and loss function\n",
    "def model(x):\n",
    "    return w * x + b\n",
    "\n",
    "def compute_loss(y_true, y_pred):\n",
    "    return tf.square(y_true - y_pred)\n",
    "\n",
    "# Create an instance of SGD optimizer\n",
    "optimizer = tf.keras.optimizers.SGD(learning_rate=0.01)\n",
    "\n",
    "# Perform gradient descent manually\n",
    "for i in range(100):\n",
    "    with tf.GradientTape() as tape:\n",
    "        # Forward pass through the model\n",
    "        y_pred = model(x)\n",
    "        \n",
    "        # Compute loss using separate function\n",
    "        current_loss_value = compute_loss(y_true, y_pred)\n",
    "    \n",
    "    # Convert current_loss_value to TensorFlow tensor if it's a NumPy array.\n",
    "    if isinstance(current_loss_value, np.ndarray):\n",
    "        current_loss_value = tf.convert_to_tensor(current_loss_value)\n",
    "    \n",
    "    # Calculate gradients\n",
    "    gradients = tape.gradient(current_loss_value, [w, b])\n",
    "    \n",
    "    # Update weights using optimizer.apply_gradients()\n",
    "    optimizer.apply_gradients(zip(gradients, [w,b]))\n",
    "\n",
    "print(current_loss_value.numpy())"
   ]
  },
  {
   "cell_type": "code",
   "execution_count": null,
   "metadata": {},
   "outputs": [],
   "source": []
  }
 ],
 "metadata": {
  "kernelspec": {
   "display_name": "Python 3",
   "language": "python",
   "name": "python3"
  },
  "language_info": {
   "codemirror_mode": {
    "name": "ipython",
    "version": 3
   },
   "file_extension": ".py",
   "mimetype": "text/x-python",
   "name": "python",
   "nbconvert_exporter": "python",
   "pygments_lexer": "ipython3",
   "version": "3.8.1"
  },
  "orig_nbformat": 4
 },
 "nbformat": 4,
 "nbformat_minor": 2
}
